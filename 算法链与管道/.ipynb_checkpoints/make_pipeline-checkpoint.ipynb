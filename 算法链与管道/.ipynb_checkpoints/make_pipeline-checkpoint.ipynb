{
 "cells": [
  {
   "cell_type": "markdown",
   "id": "3ff25dfe-3cd1-4e60-990d-4ab701c1c214",
   "metadata": {},
   "source": [
    "![](./cache/make_pipe.png)"
   ]
  },
  {
   "cell_type": "code",
   "execution_count": 1,
   "id": "8466bb35-3dce-41a4-96ca-c723e7ed903e",
   "metadata": {},
   "outputs": [],
   "source": [
    "from sklearn.pipeline import make_pipeline\n",
    "from sklearn.model_selection import GridSearchCV\n",
    "from sklearn.svm import SVC\n",
    "from sklearn.model_selection import train_test_split\n",
    "from sklearn.preprocessing import MinMaxScaler\n",
    "from sklearn.datasets import load_breast_cancer"
   ]
  },
  {
   "cell_type": "markdown",
   "id": "4e3514ef-4b1f-4272-a1c8-ee69324a1058",
   "metadata": {},
   "source": [
    "#### 标准语法\n",
    "pipe_long = Pipeline([(\"scaler\", MinMaxScaler()), (\"svm\", SVC(C=100))])"
   ]
  },
  {
   "cell_type": "code",
   "execution_count": 2,
   "id": "5c2b9ed9-288c-411a-9b63-2234e1a037fa",
   "metadata": {},
   "outputs": [],
   "source": [
    "# 缩写语法\n",
    "pipe_short = make_pipeline(MinMaxScaler(), SVC(C=100))"
   ]
  },
  {
   "cell_type": "code",
   "execution_count": 3,
   "id": "62cc7587-8de3-41d0-b9f3-deb0b0e79509",
   "metadata": {},
   "outputs": [
    {
     "data": {
      "text/plain": [
       "[('minmaxscaler', MinMaxScaler()), ('svc', SVC(C=100))]"
      ]
     },
     "execution_count": 3,
     "metadata": {},
     "output_type": "execute_result"
    }
   ],
   "source": [
    "pipe_short.steps"
   ]
  },
  {
   "cell_type": "code",
   "execution_count": 4,
   "id": "1cef4531-caaf-48da-9d85-7b283ebe252a",
   "metadata": {},
   "outputs": [
    {
     "data": {
      "text/plain": [
       "[('standardscaler-1', StandardScaler()),\n",
       " ('pca', PCA(n_components=2)),\n",
       " ('standardscaler-2', StandardScaler())]"
      ]
     },
     "execution_count": 4,
     "metadata": {},
     "output_type": "execute_result"
    }
   ],
   "source": [
    "from sklearn.preprocessing import StandardScaler\n",
    "from sklearn.decomposition import PCA\n",
    "\n",
    "pipe = make_pipeline(StandardScaler(), PCA(n_components=2), StandardScaler())\n",
    "pipe.steps"
   ]
  },
  {
   "cell_type": "code",
   "execution_count": 5,
   "id": "020cf044-0d2c-4075-8d29-e3704d8dea33",
   "metadata": {},
   "outputs": [],
   "source": [
    "# 用前面定义的管道对cancer数据集进行拟合\n",
    "cancer = load_breast_cancer()\n",
    "pipe_handle = pipe.fit(cancer.data)"
   ]
  },
  {
   "cell_type": "code",
   "execution_count": 6,
   "id": "2c635cf3-a6fd-4149-9f6f-fd25cc9c2afa",
   "metadata": {},
   "outputs": [],
   "source": [
    "X_handle = pipe_handle.transform(cancer.data)"
   ]
  },
  {
   "cell_type": "code",
   "execution_count": 7,
   "id": "710f2077-22cb-47b7-bb4a-d8b483d027f4",
   "metadata": {},
   "outputs": [
    {
     "data": {
      "text/plain": [
       "array([[2.52245965, 0.8167913 ]])"
      ]
     },
     "execution_count": 7,
     "metadata": {},
     "output_type": "execute_result"
    }
   ],
   "source": [
    "X_handle[:1,:]"
   ]
  },
  {
   "cell_type": "code",
   "execution_count": 8,
   "id": "1ada2472-40dd-4d71-9868-aebc77361c75",
   "metadata": {},
   "outputs": [
    {
     "data": {
      "text/plain": [
       "(569, 2)"
      ]
     },
     "execution_count": 8,
     "metadata": {},
     "output_type": "execute_result"
    }
   ],
   "source": [
    "X_handle.shape"
   ]
  },
  {
   "cell_type": "code",
   "execution_count": 9,
   "id": "d085bd3c-641c-4384-a57f-97ddd00e8e30",
   "metadata": {},
   "outputs": [],
   "source": [
    "from sklearn.linear_model import LogisticRegression\n",
    "\n",
    "pipe = make_pipeline(StandardScaler(), LogisticRegression(max_iter=4000))"
   ]
  },
  {
   "cell_type": "code",
   "execution_count": 10,
   "id": "22d06701-21ec-4542-82e8-6d8b32a2021d",
   "metadata": {},
   "outputs": [],
   "source": [
    "param_grid = {'logisticregression__C': [0.01, 0.1, 1, 10, 100]}"
   ]
  },
  {
   "cell_type": "code",
   "execution_count": 11,
   "id": "e6f81f6e-08dd-4d33-8869-a73a7e6fa548",
   "metadata": {},
   "outputs": [
    {
     "data": {
      "text/plain": [
       "GridSearchCV(cv=5,\n",
       "             estimator=Pipeline(steps=[('standardscaler', StandardScaler()),\n",
       "                                       ('logisticregression',\n",
       "                                        LogisticRegression(max_iter=4000))]),\n",
       "             param_grid={'logisticregression__C': [0.01, 0.1, 1, 10, 100]})"
      ]
     },
     "execution_count": 11,
     "metadata": {},
     "output_type": "execute_result"
    }
   ],
   "source": [
    "X_train, X_test, y_train, y_test = train_test_split(cancer.data, cancer.target, random_state=4)\n",
    "grid = GridSearchCV(pipe, param_grid, cv=5)\n",
    "grid.fit(X_train, y_train)"
   ]
  },
  {
   "cell_type": "code",
   "execution_count": 12,
   "id": "2b631ea7-0781-4277-b1f0-79f934069b9c",
   "metadata": {},
   "outputs": [
    {
     "data": {
      "text/plain": [
       "Pipeline(steps=[('standardscaler', StandardScaler()),\n",
       "                ('logisticregression', LogisticRegression(C=1, max_iter=4000))])"
      ]
     },
     "execution_count": 12,
     "metadata": {},
     "output_type": "execute_result"
    }
   ],
   "source": [
    "grid.best_estimator_"
   ]
  },
  {
   "cell_type": "code",
   "execution_count": 13,
   "id": "672896fa-cb45-485b-b168-a416306cb01e",
   "metadata": {},
   "outputs": [
    {
     "data": {
      "text/plain": [
       "LogisticRegression(C=1, max_iter=4000)"
      ]
     },
     "execution_count": 13,
     "metadata": {},
     "output_type": "execute_result"
    }
   ],
   "source": [
    "grid.best_estimator_.named_steps[\"logisticregression\"]"
   ]
  },
  {
   "cell_type": "code",
   "execution_count": 14,
   "id": "38933f3a-785c-4f39-846c-c4a562a9dd24",
   "metadata": {},
   "outputs": [
    {
     "data": {
      "text/plain": [
       "array([[-0.43570655, -0.34266946, -0.40809443, -0.5344574 , -0.14971847,\n",
       "         0.61034122, -0.72634347, -0.78538827,  0.03886087,  0.27497198,\n",
       "        -1.29780109,  0.04926005, -0.67336941, -0.93447426, -0.13939555,\n",
       "         0.45032641, -0.13009864, -0.10144273,  0.43432027,  0.71596578,\n",
       "        -1.09068862, -1.09463976, -0.85183755, -1.06406198, -0.74316099,\n",
       "         0.07252425, -0.82323903, -0.65321239, -0.64379499, -0.42026013]])"
      ]
     },
     "execution_count": 14,
     "metadata": {},
     "output_type": "execute_result"
    }
   ],
   "source": [
    "grid.best_estimator_.named_steps[\"logisticregression\"].coef_"
   ]
  },
  {
   "cell_type": "code",
   "execution_count": 15,
   "id": "fad884e8-4870-4963-902f-f0c8796f6873",
   "metadata": {
    "collapsed": true,
    "jupyter": {
     "outputs_hidden": true
    },
    "tags": []
   },
   "outputs": [
    {
     "name": "stderr",
     "output_type": "stream",
     "text": [
      "C:\\Users\\Administrator\\Envs\\env\\lib\\site-packages\\sklearn\\utils\\deprecation.py:87: FutureWarning: Function load_boston is deprecated; `load_boston` is deprecated in 1.0 and will be removed in 1.2.\n",
      "\n",
      "    The Boston housing prices dataset has an ethical problem. You can refer to\n",
      "    the documentation of this function for further details.\n",
      "\n",
      "    The scikit-learn maintainers therefore strongly discourage the use of this\n",
      "    dataset unless the purpose of the code is to study and educate about\n",
      "    ethical issues in data science and machine learning.\n",
      "\n",
      "    In this special case, you can fetch the dataset from the original\n",
      "    source::\n",
      "\n",
      "        import pandas as pd\n",
      "        import numpy as np\n",
      "\n",
      "\n",
      "        data_url = \"http://lib.stat.cmu.edu/datasets/boston\"\n",
      "        raw_df = pd.read_csv(data_url, sep=\"\\s+\", skiprows=22, header=None)\n",
      "        data = np.hstack([raw_df.values[::2, :], raw_df.values[1::2, :2]])\n",
      "        target = raw_df.values[1::2, 2]\n",
      "\n",
      "    Alternative datasets include the California housing dataset (i.e.\n",
      "    :func:`~sklearn.datasets.fetch_california_housing`) and the Ames housing\n",
      "    dataset. You can load the datasets as follows::\n",
      "\n",
      "        from sklearn.datasets import fetch_california_housing\n",
      "        housing = fetch_california_housing()\n",
      "\n",
      "    for the California housing dataset and::\n",
      "\n",
      "        from sklearn.datasets import fetch_openml\n",
      "        housing = fetch_openml(name=\"house_prices\", as_frame=True)\n",
      "\n",
      "    for the Ames housing dataset.\n",
      "    \n",
      "  warnings.warn(msg, category=FutureWarning)\n"
     ]
    }
   ],
   "source": [
    "from sklearn.datasets import load_boston\n",
    "from sklearn.linear_model import Ridge\n",
    "boston = load_boston()\n",
    "X_train, X_test, y_train, y_test = train_test_split(boston.data, boston.target,random_state=0)\n",
    "\n",
    "from sklearn.preprocessing import PolynomialFeatures\n",
    "pipe = make_pipeline(StandardScaler(),PolynomialFeatures(),Ridge())"
   ]
  },
  {
   "cell_type": "code",
   "execution_count": 16,
   "id": "b5b78c01-769a-4b9e-9d5f-609175d83b7e",
   "metadata": {},
   "outputs": [
    {
     "data": {
      "text/plain": [
       "{'standardscaler': StandardScaler(),\n",
       " 'polynomialfeatures': PolynomialFeatures(),\n",
       " 'ridge': Ridge()}"
      ]
     },
     "execution_count": 16,
     "metadata": {},
     "output_type": "execute_result"
    }
   ],
   "source": [
    "pipe.named_steps"
   ]
  },
  {
   "cell_type": "code",
   "execution_count": 17,
   "id": "5cf48260-8e74-47e4-b58f-dd0a17a8c368",
   "metadata": {},
   "outputs": [],
   "source": [
    "param_grid = {'polynomialfeatures__degree': [1, 2, 3],\n",
    "              'ridge__alpha': [0.001, 0.01, 0.1, 1, 10, 100]}"
   ]
  },
  {
   "cell_type": "code",
   "execution_count": 18,
   "id": "c0aeb67f-da85-44b9-a906-96fff9ea5fab",
   "metadata": {},
   "outputs": [
    {
     "data": {
      "text/plain": [
       "GridSearchCV(cv=5,\n",
       "             estimator=Pipeline(steps=[('standardscaler', StandardScaler()),\n",
       "                                       ('polynomialfeatures',\n",
       "                                        PolynomialFeatures()),\n",
       "                                       ('ridge', Ridge())]),\n",
       "             n_jobs=-1,\n",
       "             param_grid={'polynomialfeatures__degree': [1, 2, 3],\n",
       "                         'ridge__alpha': [0.001, 0.01, 0.1, 1, 10, 100]})"
      ]
     },
     "execution_count": 18,
     "metadata": {},
     "output_type": "execute_result"
    }
   ],
   "source": [
    "grid = GridSearchCV(pipe, param_grid=param_grid, cv=5, n_jobs=-1)\n",
    "grid.fit(X_train, y_train)"
   ]
  },
  {
   "cell_type": "code",
   "execution_count": 19,
   "id": "cdc82c99-0030-43bd-9452-06c43412865e",
   "metadata": {},
   "outputs": [
    {
     "data": {
      "text/plain": [
       "0.7683045464100142"
      ]
     },
     "execution_count": 19,
     "metadata": {},
     "output_type": "execute_result"
    }
   ],
   "source": [
    "grid.score(X_test, y_test)"
   ]
  },
  {
   "cell_type": "code",
   "execution_count": 20,
   "id": "25efec21-2bc0-4033-a622-61ba3ba8e721",
   "metadata": {},
   "outputs": [
    {
     "data": {
      "text/plain": [
       "{'polynomialfeatures__degree': 2, 'ridge__alpha': 10}"
      ]
     },
     "execution_count": 20,
     "metadata": {},
     "output_type": "execute_result"
    }
   ],
   "source": [
    "grid.best_params_"
   ]
  },
  {
   "cell_type": "code",
   "execution_count": 21,
   "id": "6ae9560a-013f-4c45-9708-f4053bf2a0d3",
   "metadata": {},
   "outputs": [],
   "source": [
    "from matplotlib import pyplot as plt"
   ]
  },
  {
   "cell_type": "code",
   "execution_count": 22,
   "id": "a0a9e517-3533-4add-8f61-2e880ff73ac3",
   "metadata": {},
   "outputs": [
    {
     "data": {
      "image/png": "[encoded data removed]",
      "text/plain": [
       "<Figure size 691.2x345.6 with 2 Axes>"
      ]
     },
     "metadata": {
      "needs_background": "light"
     },
     "output_type": "display_data"
    }
   ],
   "source": [
    "plt.matshow(grid.cv_results_['mean_test_score'].reshape(3, -1),vmin=0, cmap=\"viridis\")\n",
    "plt.xlabel(\"ridge__alpha\")\n",
    "plt.ylabel(\"polynomialfeatures__degree\")\n",
    "plt.xticks(range(len(param_grid['ridge__alpha'])), param_grid['ridge__alpha'])\n",
    "plt.yticks(range(len(param_grid['polynomialfeatures__degree'])),param_grid['polynomialfeatures__degree'])\n",
    "plt.colorbar()\n",
    "plt.show()"
   ]
  }
 ],
 "metadata": {
  "kernelspec": {
   "display_name": "Python 3 (ipykernel)",
   "language": "python",
   "name": "python3"
  },
  "language_info": {
   "codemirror_mode": {
    "name": "ipython",
    "version": 3
   },
   "file_extension": ".py",
   "mimetype": "text/x-python",
   "name": "python",
   "nbconvert_exporter": "python",
   "pygments_lexer": "ipython3",
   "version": "3.7.8"
  }
 },
 "nbformat": 4,
 "nbformat_minor": 5
}
